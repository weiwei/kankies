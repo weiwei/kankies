{
 "cells": [
  {
   "cell_type": "code",
   "execution_count": null,
   "id": "south-satisfaction",
   "metadata": {},
   "outputs": [],
   "source": [
    "from pyrae import dle"
   ]
  },
  {
   "cell_type": "code",
   "execution_count": null,
   "id": "military-pacific",
   "metadata": {},
   "outputs": [],
   "source": [
    "res = dle.search_by_word(word=\"hola\")"
   ]
  },
  {
   "cell_type": "code",
   "execution_count": 1,
   "id": "surface-thursday",
   "metadata": {},
   "outputs": [],
   "source": [
    "import spacy\n",
    "nlp = spacy.load(\"es_core_news_sm\")\n",
    "doc = nlp(\"Esto es una frase.\")"
   ]
  },
  {
   "cell_type": "code",
   "execution_count": 2,
   "id": "smooth-remedy",
   "metadata": {},
   "outputs": [
    {
     "data": {
      "text/plain": [
       "{}"
      ]
     },
     "execution_count": 2,
     "metadata": {},
     "output_type": "execute_result"
    }
   ],
   "source": [
    "doc.cats"
   ]
  },
  {
   "cell_type": "code",
   "execution_count": null,
   "id": "current-roads",
   "metadata": {},
   "outputs": [],
   "source": [
    "os."
   ]
  }
 ],
 "metadata": {
  "kernelspec": {
   "display_name": "Python 3",
   "language": "python",
   "name": "python3"
  },
  "language_info": {
   "codemirror_mode": {
    "name": "ipython",
    "version": 3
   },
   "file_extension": ".py",
   "mimetype": "text/x-python",
   "name": "python",
   "nbconvert_exporter": "python",
   "pygments_lexer": "ipython3",
   "version": "3.9.1"
  }
 },
 "nbformat": 4,
 "nbformat_minor": 5
}
